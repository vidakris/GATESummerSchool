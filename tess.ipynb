{
 "cells": [
  {
   "cell_type": "markdown",
   "metadata": {},
   "source": [
    "# Retrieving TESS light curves\n",
    "\n",
    "In this notebook, we'll check for existing time series data in the TESS database using the list of open cluster members we found previously. \n",
    "\n",
    "We'll check these light curves for flares and compare the activity of clusters of different ages, and stars of different temperature (hopefully you'll find enough data for the analysis).\n",
    "\n",
    "If you are not so familiar with the topic, you can check [this presentation](https://www.slideshare.net/jradavenport/bu-2014-davenport) on stellar flares and space photometry. \n",
    "\n",
    "*TL;DR*: flares are a result of reconnecting magnetic field lines in stellar atmospheres:\n",
    "\n",
    "<img src=\"https://image.slidesharecdn.com/bu-2014-davenport-140318013053-phpapp01/95/spots-and-flares-stellar-activity-with-kepler-james-r-a-davenport-2014-9-638.jpg\"\n",
    "     width=500px\n",
    "     style=\"display:block; float: center; margin-right: auto;\" />\n",
    "     \n",
    "These can be best observed in stellar coronae in X-ray, but the strongest flares heat the photosphere, too, and cause a so-called white-light flare, that can be seen in optical regime: they can be observed as sudden brightenings followed by an exponential decay. Their shape can be more complex, like a strong eruption followed by multiple further events (possibly induced by the first eruption's [shockwave](https://www.youtube.com/watch?v=uSr7ynvVn58)).\n",
    "\n",
    "<table>\n",
    "<tr>\n",
    "<td>\n",
    "<img src=\"https://image.slidesharecdn.com/bu-2014-davenport-140318013053-phpapp01/95/spots-and-flares-stellar-activity-with-kepler-james-r-a-davenport-2014-14-638.jpg?cb=1395106758\"\n",
    "     width=400px\n",
    "     style=\"float: left; margin-right: auto;\" />  \n",
    "<td>            \n",
    "<img src=\"https://image.slidesharecdn.com/bu-2014-davenport-140318013053-phpapp01/95/spots-and-flares-stellar-activity-with-kepler-james-r-a-davenport-2014-15-638.jpg?cb=1395106758\"\n",
    "     width=400px\n",
    "     style=\"float: right; margin-right: auto;\" />\n",
    "</table>\n",
    "\n",
    "    \n",
    "Flares tend to be more frequent on later-type stars: a large fraction of M-dwarf show flares, but they are much more rare in G-stars, but those still produce even [superflares occasionally](https://www.nature.com/articles/nature11063)!\n",
    "Since activity is strongly related to the strength of the magnetic field, fast-rotating, young stars are typically more active. Also a star needs a dynamo to maintain a magnetic field, so we don't expect flares on massive ($1.3M_{\\odot}$) stars that have an inner structure different from the Sun and lack a tachocline. Low-mass M stars ($<0.3M_{\\odot}$) don't have a tachocline either, as they are fully convective, but here there are different dynamo mechanisms that can still produce strong magnetic fields (with somewhat different properties, e.g. no activity cycles) and flares. \n",
    "    \n",
    "----------\n"
   ]
  },
  {
   "cell_type": "markdown",
   "metadata": {},
   "source": [
    "OK, let's see our actual targets! First, we'll load the member list from the previous notebook using `astropy`."
   ]
  },
  {
   "cell_type": "code",
   "execution_count": 1,
   "metadata": {},
   "outputs": [],
   "source": [
    "from astroquery.mast import Observations\n",
    "from astropy.table import Table"
   ]
  },
  {
   "cell_type": "code",
   "execution_count": 2,
   "metadata": {},
   "outputs": [
    {
     "data": {
      "text/html": [
       "<i>Table masked=True length=3</i>\n",
       "<table id=\"table4614709936\" class=\"table-striped table-bordered table-condensed\">\n",
       "<thead><tr><th>solution_id</th><th>designation</th><th>source_id</th><th>random_index</th><th>ref_epoch</th><th>ra</th><th>ra_error</th><th>dec</th><th>dec_error</th><th>parallax</th><th>parallax_error</th><th>parallax_over_error</th><th>pmra</th><th>pmra_error</th><th>pmdec</th><th>pmdec_error</th><th>ra_dec_corr</th><th>ra_parallax_corr</th><th>ra_pmra_corr</th><th>ra_pmdec_corr</th><th>dec_parallax_corr</th><th>dec_pmra_corr</th><th>dec_pmdec_corr</th><th>parallax_pmra_corr</th><th>parallax_pmdec_corr</th><th>pmra_pmdec_corr</th><th>astrometric_n_obs_al</th><th>astrometric_n_obs_ac</th><th>astrometric_n_good_obs_al</th><th>astrometric_n_bad_obs_al</th><th>astrometric_gof_al</th><th>astrometric_chi2_al</th><th>astrometric_excess_noise</th><th>astrometric_excess_noise_sig</th><th>astrometric_params_solved</th><th>astrometric_primary_flag</th><th>astrometric_weight_al</th><th>astrometric_pseudo_colour</th><th>astrometric_pseudo_colour_error</th><th>mean_varpi_factor_al</th><th>astrometric_matched_observations</th><th>visibility_periods_used</th><th>astrometric_sigma5d_max</th><th>frame_rotator_object_type</th><th>matched_observations</th><th>duplicated_source</th><th>phot_g_n_obs</th><th>phot_g_mean_flux</th><th>phot_g_mean_flux_error</th><th>phot_g_mean_flux_over_error</th><th>phot_g_mean_mag</th><th>phot_bp_n_obs</th><th>phot_bp_mean_flux</th><th>phot_bp_mean_flux_error</th><th>phot_bp_mean_flux_over_error</th><th>phot_bp_mean_mag</th><th>phot_rp_n_obs</th><th>phot_rp_mean_flux</th><th>phot_rp_mean_flux_error</th><th>phot_rp_mean_flux_over_error</th><th>phot_rp_mean_mag</th><th>phot_bp_rp_excess_factor</th><th>phot_proc_mode</th><th>bp_rp</th><th>bp_g</th><th>g_rp</th><th>radial_velocity</th><th>radial_velocity_error</th><th>rv_nb_transits</th><th>rv_template_teff</th><th>rv_template_logg</th><th>rv_template_fe_h</th><th>phot_variable_flag</th><th>l</th><th>b</th><th>ecl_lon</th><th>ecl_lat</th><th>priam_flags</th><th>teff_val</th><th>teff_percentile_lower</th><th>teff_percentile_upper</th><th>a_g_val</th><th>a_g_percentile_lower</th><th>a_g_percentile_upper</th><th>e_bp_min_rp_val</th><th>e_bp_min_rp_percentile_lower</th><th>e_bp_min_rp_percentile_upper</th><th>flame_flags</th><th>radius_val</th><th>radius_percentile_lower</th><th>radius_percentile_upper</th><th>lum_val</th><th>lum_percentile_lower</th><th>lum_percentile_upper</th><th>datalink_url</th><th>epoch_photometry_url</th></tr></thead>\n",
       "<thead><tr><th>int64</th><th>str27</th><th>int64</th><th>int64</th><th>float64</th><th>float64</th><th>float64</th><th>float64</th><th>float64</th><th>float64</th><th>float64</th><th>float64</th><th>float64</th><th>float64</th><th>float64</th><th>float64</th><th>float64</th><th>float64</th><th>float64</th><th>float64</th><th>float64</th><th>float64</th><th>float64</th><th>float64</th><th>float64</th><th>float64</th><th>int64</th><th>int64</th><th>int64</th><th>int64</th><th>float64</th><th>float64</th><th>float64</th><th>float64</th><th>int64</th><th>bool</th><th>float64</th><th>float64</th><th>float64</th><th>float64</th><th>int64</th><th>int64</th><th>float64</th><th>int64</th><th>int64</th><th>bool</th><th>int64</th><th>float64</th><th>float64</th><th>float64</th><th>float64</th><th>int64</th><th>float64</th><th>float64</th><th>float64</th><th>float64</th><th>int64</th><th>float64</th><th>float64</th><th>float64</th><th>float64</th><th>float64</th><th>int64</th><th>float64</th><th>float64</th><th>float64</th><th>float64</th><th>float64</th><th>int64</th><th>float64</th><th>float64</th><th>float64</th><th>str13</th><th>float64</th><th>float64</th><th>float64</th><th>float64</th><th>float64</th><th>float64</th><th>float64</th><th>float64</th><th>float64</th><th>float64</th><th>float64</th><th>float64</th><th>float64</th><th>float64</th><th>float64</th><th>float64</th><th>float64</th><th>float64</th><th>float64</th><th>float64</th><th>float64</th><th>str82</th><th>float64</th></tr></thead>\n",
       "<tr><td>1635721458409799680</td><td>Gaia DR2 319390952296062080</td><td>319390952296062080</td><td>1540657275</td><td>2015.5</td><td>26.1064454889</td><td>0.0213923824</td><td>37.1326444983</td><td>0.018929232100000002</td><td>2.2825926801</td><td>0.02376771</td><td>96.0375518799</td><td>9.883128519</td><td>0.043763654400000004</td><td>-10.886632297</td><td>0.0440990038</td><td>0.1169698015</td><td>0.3030690253</td><td>-0.2899731398</td><td>-0.044579155700000005</td><td>-0.2271885276</td><td>-0.1750548035</td><td>-0.3267517686</td><td>0.1901143938</td><td>0.29957219960000003</td><td>0.3380360603</td><td>150</td><td>0</td><td>150</td><td>0</td><td>-4.3682413101</td><td>82.1501159668</td><td>0.0</td><td>0.0</td><td>31</td><td>True</td><td>79.6809616089</td><td>1.5491454534</td><td>0.0069282114</td><td>0.0217759442</td><td>17</td><td>10</td><td>0.0587246716</td><td>0</td><td>17</td><td>False</td><td>150</td><td>61700.4821663218</td><td>54.5401016016</td><td>1131.2864990234</td><td>13.712644577</td><td>17</td><td>30161.9878589478</td><td>104.8446849842</td><td>287.6825561523</td><td>14.1527385712</td><td>17</td><td>45109.301905174</td><td>128.5650623923</td><td>350.8674926758</td><td>13.1262550354</td><td>1.2199465036000001</td><td>0</td><td>1.0264835358</td><td>0.4400939941</td><td>0.5863895416</td><td>--</td><td>--</td><td>0</td><td>--</td><td>--</td><td>--</td><td>NOT_AVAILABLE</td><td>134.5176348392</td><td>-24.544148099</td><td>38.1322820149</td><td>24.4753744975</td><td>100001.0</td><td>5083.1850585938</td><td>4973.0</td><td>5200.0</td><td>0.0860000029</td><td>0.0250000004</td><td>0.1836999953</td><td>0.0410000011</td><td>0.0120000001</td><td>0.0909999982</td><td>200111.0</td><td>0.9187432528</td><td>0.877928853</td><td>0.9599068165</td><td>0.5077228546</td><td>0.49407354000000003</td><td>0.5213721395</td><td>https://gea.esac.esa.int/data-server/datalink/links?ID=Gaia+DR2+319390952296062080</td><td>--</td></tr>\n",
       "<tr><td>1635721458409799680</td><td>Gaia DR2 342477226146028928</td><td>342477226146028928</td><td>348610924</td><td>2015.5</td><td>29.1661372351</td><td>0.023651653</td><td>37.2747672509</td><td>0.029579299000000003</td><td>2.2434082504</td><td>0.0336590835</td><td>66.6509017944</td><td>9.4537128806</td><td>0.0558171198</td><td>-11.2893362514</td><td>0.0728272901</td><td>0.3137170374</td><td>0.1418880075</td><td>-0.3031136096</td><td>-0.2349045575</td><td>-0.47671818730000004</td><td>-0.5282514095</td><td>-0.6357350349</td><td>0.4356325567</td><td>0.5990873575</td><td>0.6169531345</td><td>131</td><td>0</td><td>131</td><td>0</td><td>-4.0459661484</td><td>71.6090164185</td><td>0.0</td><td>0.0</td><td>31</td><td>True</td><td>113.7468414307</td><td>1.5945394988000001</td><td>0.005974512</td><td>0.1189919636</td><td>15</td><td>9</td><td>0.0915565565</td><td>0</td><td>15</td><td>False</td><td>127</td><td>87595.4687788945</td><td>31.9362231164</td><td>2742.8249511719</td><td>13.3321619034</td><td>15</td><td>45436.8357744082</td><td>68.2995249683</td><td>665.2584228516</td><td>13.7078676224</td><td>13</td><td>60912.1499365759</td><td>167.6061737801</td><td>363.4242553711</td><td>12.800160408</td><td>1.2140923738</td><td>0</td><td>0.9077072144</td><td>0.37570571900000005</td><td>0.5320014954</td><td>--</td><td>--</td><td>0</td><td>--</td><td>--</td><td>--</td><td>NOT_AVAILABLE</td><td>137.066082331</td><td>-23.8002501147</td><td>40.6546464267</td><td>23.666008444</td><td>100001.0</td><td>5465.0</td><td>5405.0</td><td>5499.6665039062</td><td>0.1264999956</td><td>0.0732999966</td><td>0.2151000053</td><td>0.0617000014</td><td>0.0285</td><td>0.09929999710000001</td><td>200111.0</td><td>0.9369007945000001</td><td>0.9251267314</td><td>0.9578170180000001</td><td>0.705411613</td><td>0.6804062724000001</td><td>0.7304169536</td><td>https://gea.esac.esa.int/data-server/datalink/links?ID=Gaia+DR2+342477226146028928</td><td>--</td></tr>\n",
       "<tr><td>1635721458409799680</td><td>Gaia DR2 342451215824120576</td><td>342451215824120576</td><td>479237294</td><td>2015.5</td><td>29.1612304448</td><td>0.0493742844</td><td>36.9094853482</td><td>0.0394421484</td><td>2.1746735605</td><td>0.0474360037</td><td>45.844367981</td><td>9.7239854247</td><td>0.09374310670000001</td><td>-11.7401865002</td><td>0.0964777088</td><td>-0.22735767070000001</td><td>0.2925762534</td><td>-0.5214108825</td><td>0.2318716049</td><td>-0.2491960675</td><td>0.192233175</td><td>-0.32167252900000004</td><td>0.1377399117</td><td>0.0462835282</td><td>0.051836684300000005</td><td>115</td><td>115</td><td>109</td><td>6</td><td>3.7190544604999998</td><td>166.4723510742</td><td>0.0</td><td>0.0</td><td>31</td><td>True</td><td>508.650390625</td><td>1.6528609066</td><td>0.0121699982</td><td>-0.0675584674</td><td>13</td><td>9</td><td>0.0614710897</td><td>0</td><td>13</td><td>False</td><td>104</td><td>485712.8844015841</td><td>171.6293861498</td><td>2830.0100097656</td><td>11.4724168777</td><td>13</td><td>284579.1071790989</td><td>502.8164593831</td><td>565.9701538086</td><td>11.715880394</td><td>13</td><td>295510.6524424523</td><td>356.7521198739</td><td>828.3360595703</td><td>11.0854873657</td><td>1.1943058968</td><td>0</td><td>0.6303930283</td><td>0.2434635162</td><td>0.38692951200000003</td><td>6.9920213168</td><td>0.22951942960000002</td><td>4</td><td>6000.0</td><td>3.5</td><td>0.0</td><td>NOT_AVAILABLE</td><td>137.1712808877</td><td>-24.1526801692</td><td>40.4998315632</td><td>23.3294244061</td><td>100001.0</td><td>6797.0</td><td>6532.0</td><td>6889.0</td><td>0.8640000224000001</td><td>0.6506000161000001</td><td>1.1181000471</td><td>0.4050000012</td><td>0.3158999979</td><td>0.5394999981</td><td>200111.0</td><td>1.4379333258</td><td>1.3997836113</td><td>1.5569723844999999</td><td>3.9759531021</td><td>3.855111599</td><td>4.0967946053</td><td>https://gea.esac.esa.int/data-server/datalink/links?ID=Gaia+DR2+342451215824120576</td><td>--</td></tr>\n",
       "</table>"
      ],
      "text/plain": [
       "<Table masked=True length=3>\n",
       "    solution_id             designation         ... epoch_photometry_url\n",
       "       int64                   str27            ...       float64       \n",
       "------------------- --------------------------- ... --------------------\n",
       "1635721458409799680 Gaia DR2 319390952296062080 ...                   --\n",
       "1635721458409799680 Gaia DR2 342477226146028928 ...                   --\n",
       "1635721458409799680 Gaia DR2 342451215824120576 ...                   --"
      ]
     },
     "execution_count": 2,
     "metadata": {},
     "output_type": "execute_result"
    }
   ],
   "source": [
    "members = Table.read('./members.ngc752.json', format=\"pandas.json\")\n",
    "members[0:3]"
   ]
  },
  {
   "cell_type": "markdown",
   "metadata": {},
   "source": [
    "Using the [walkthrough](https://astroquery.readthedocs.io/en/latest/mast/mast.html) we'll search for our targets and identify which of them have available light curves."
   ]
  },
  {
   "cell_type": "code",
   "execution_count": 3,
   "metadata": {},
   "outputs": [
    {
     "name": "stdout",
     "output_type": "stream",
     "text": [
      "."
     ]
    },
    {
     "name": "stderr",
     "output_type": "stream",
     "text": [
      "WARNING: InputWarning: Coordinate string is being interpreted as an ICRS coordinate provided in degrees. [astroquery.utils.commons]\n",
      "WARNING: NoResultsWarning: Query returned no results. [astroquery.mast.core]\n"
     ]
    },
    {
     "name": "stdout",
     "output_type": "stream",
     "text": [
      "........................................................\n",
      "\n",
      "342773059198043648: \n",
      "1 light curve(s) found [56]\n",
      ".................\n",
      "\n",
      "342893803614055168: \n",
      "1 light curve(s) found [73]\n",
      "................\n",
      "\n",
      "342937195667536512: \n",
      "1 light curve(s) found [89]\n",
      ".......\n",
      "\n",
      "342899537393760512: \n",
      "1 light curve(s) found [96]\n",
      "........................\n",
      "\n",
      "342890127122193280: \n",
      "1 light curve(s) found [120]\n",
      ".\n",
      "\n",
      "342855251987671040: \n",
      "1 light curve(s) found [121]\n",
      ".......\n",
      "\n",
      "342934313745568768: \n",
      "1 light curve(s) found [128]\n",
      ".......................\n",
      "\n",
      "342869236401143808: \n",
      "1 light curve(s) found [151]\n",
      "..............................................\n",
      "\n",
      "343118619382072832: \n",
      "1 light curve(s) found [197]\n",
      "...............................................................................\n",
      "\n",
      "331052784938332800: \n",
      "1 light curve(s) found [276]\n",
      "............"
     ]
    }
   ],
   "source": [
    "import numpy as np\n",
    "import sys\n",
    "lcarr=[]\n",
    "i=0\n",
    "for target in members:\n",
    "    sys.stdout.write('.')\n",
    "    str(target['ra'])+' '+str(target['dec'])\n",
    "    obs = Observations.query_criteria(filters=[\"TESS\"],\n",
    "                                coordinates=str(target['ra'])+' '+str(target['dec']),\n",
    "                               radius=5./60/60,\n",
    "                               dataproduct_type=\"timeseries\")\n",
    "\n",
    "    if obs.__len__() > 0:\n",
    "        print(\"\\n\")\n",
    "        print(str(target[\"source_id\"])+\": \")\n",
    "\n",
    "        print(str( obs.__len__() )+\" light curve(s) found [\"+str(i)+\"]\")\n",
    "        lcarr.append(i)\n",
    "    i+=1\n",
    "\n",
    "lcarr=np.array(lcarr)"
   ]
  },
  {
   "cell_type": "markdown",
   "metadata": {},
   "source": [
    "As an example we'll download one sample light curve:"
   ]
  },
  {
   "cell_type": "code",
   "execution_count": 4,
   "metadata": {},
   "outputs": [
    {
     "name": "stdout",
     "output_type": "stream",
     "text": [
      "INFO: Found cached file ./mastDownload/TESS/tess2019306063752-s0018-0000000067467015-0162-s/tess2019306063752-s0018-0000000067467015-0162-s_lc.fits with expected size 1785600. [astroquery.query]\n"
     ]
    }
   ],
   "source": [
    "target=members[121]\n",
    "obs = Observations.query_criteria(filters=[\"TESS\"],\n",
    "                                coordinates=str(target['ra'])+' '+str(target['dec']),\n",
    "                               radius=5./60/60,\n",
    "                               dataproduct_type=\"timeseries\")\n",
    "obs\n",
    "data_products = Observations.get_product_list(obs[\"obsid\"])\n",
    "manifest = Observations.download_products(\n",
    "    data_products[ data_products[\"productSubGroupDescription\"]==\"LC\" ]\n",
    ")"
   ]
  },
  {
   "cell_type": "markdown",
   "metadata": {},
   "source": [
    "Let's see the output and check if the file really exists:"
   ]
  },
  {
   "cell_type": "code",
   "execution_count": 5,
   "metadata": {},
   "outputs": [
    {
     "data": {
      "text/html": [
       "<i>Table length=1</i>\n",
       "<table id=\"table4456271200\" class=\"table-striped table-bordered table-condensed\">\n",
       "<thead><tr><th>Local Path</th><th>Status</th><th>Message</th><th>URL</th></tr></thead>\n",
       "<thead><tr><th>str123</th><th>str8</th><th>object</th><th>object</th></tr></thead>\n",
       "<tr><td>./mastDownload/TESS/tess2019306063752-s0018-0000000067467015-0162-s/tess2019306063752-s0018-0000000067467015-0162-s_lc.fits</td><td>COMPLETE</td><td>None</td><td>None</td></tr>\n",
       "</table>"
      ],
      "text/plain": [
       "<Table length=1>\n",
       "                                                         Local Path                                                         ...\n",
       "                                                           str123                                                           ...\n",
       "--------------------------------------------------------------------------------------------------------------------------- ...\n",
       "./mastDownload/TESS/tess2019306063752-s0018-0000000067467015-0162-s/tess2019306063752-s0018-0000000067467015-0162-s_lc.fits ..."
      ]
     },
     "execution_count": 5,
     "metadata": {},
     "output_type": "execute_result"
    }
   ],
   "source": [
    "manifest"
   ]
  },
  {
   "cell_type": "code",
   "execution_count": 6,
   "metadata": {},
   "outputs": [
    {
     "name": "stdout",
     "output_type": "stream",
     "text": [
      "mastDownload/TESS/:\r\n",
      "tess2019306063752-s0018-0000000067467015-0162-s\r\n",
      "\r\n",
      "mastDownload/TESS/tess2019306063752-s0018-0000000067467015-0162-s:\r\n",
      "tess2019306063752-s0018-0000000067467015-0162-s_lc.fits\r\n"
     ]
    }
   ],
   "source": [
    "!ls -R mastDownload/TESS/"
   ]
  },
  {
   "cell_type": "markdown",
   "metadata": {},
   "source": [
    "Let's open the `fits` file we just got using `astropy`"
   ]
  },
  {
   "cell_type": "code",
   "execution_count": 7,
   "metadata": {},
   "outputs": [],
   "source": [
    "from astropy.io import fits\n",
    "lc = fits.open(manifest[0][\"Local Path\"])"
   ]
  },
  {
   "cell_type": "markdown",
   "metadata": {},
   "source": [
    "Let's see what we have here... It's an array:"
   ]
  },
  {
   "cell_type": "code",
   "execution_count": 8,
   "metadata": {},
   "outputs": [
    {
     "data": {
      "text/plain": [
       "[<astropy.io.fits.hdu.image.PrimaryHDU object at 0x114f48f40>, <astropy.io.fits.hdu.table.BinTableHDU object at 0x114d921f0>, <astropy.io.fits.hdu.image.ImageHDU object at 0x114f44e50>]"
      ]
     },
     "execution_count": 8,
     "metadata": {},
     "output_type": "execute_result"
    }
   ],
   "source": [
    "lc"
   ]
  },
  {
   "cell_type": "code",
   "execution_count": 9,
   "metadata": {},
   "outputs": [
    {
     "data": {
      "text/plain": [
       "SIMPLE  =                    T / conforms to FITS standards                     \n",
       "BITPIX  =                    8 / array data type                                \n",
       "NAXIS   =                    0 / number of array dimensions                     \n",
       "EXTEND  =                    T / file contains extensions                       \n",
       "NEXTEND =                    2 / number of standard extensions                  \n",
       "EXTNAME = 'PRIMARY '           / name of extension                              \n",
       "EXTVER  =                    1 / extension version number (not format version)  \n",
       "SIMDATA =                    F / file is based on simulated data                \n",
       "ORIGIN  = 'NASA/Ames'          / institution responsible for creating this file \n",
       "DATE    = '2020-04-16'         / file creation date.                            \n",
       "TSTART  =    1790.661200336749 / observation start time in BTJD                 \n",
       "TSTOP   =    1815.019040883843 / observation stop time in BTJD                  \n",
       "DATE-OBS= '2019-11-03T03:50:58.525' / TSTART as UTC calendar date               \n",
       "DATE-END= '2019-11-27T12:26:15.948' / TSTOP as UTC calendar date                \n",
       "CREATOR = '21647 LightCurveExporterPipelineModule' / pipeline job and program us\n",
       "PROCVER = 'spoc-4.0.29-20200410' / SW version                                   \n",
       "FILEVER = '1.0     '           / file format version                            \n",
       "TIMVERSN= 'OGIP/93-003'        / OGIP memo number for file format               \n",
       "TELESCOP= 'TESS    '           / telescope                                      \n",
       "INSTRUME= 'TESS Photometer'    / detector type                                  \n",
       "DATA_REL=                   30 / data release version number                    \n",
       "OBJECT  = 'TIC 67467015'       / string version of target id                    \n",
       "TICID   =             67467015 / unique tess target identifier                  \n",
       "SECTOR  =                   18 / Observing sector                               \n",
       "CAMERA  =                    1 / Camera number                                  \n",
       "CCD     =                    2 / CCD chip number                                \n",
       "PXTABLE =                  181 / pixel table id                                 \n",
       "RADESYS = 'ICRS    '           / reference frame of celestial coordinates       \n",
       "RA_OBJ  =  29.3212477767148000 / [deg] right ascension                          \n",
       "DEC_OBJ =  37.4358249418055000 / [deg] declination                              \n",
       "EQUINOX =               2000.0 / equinox of celestial coordinate system         \n",
       "PMRA    =           9.71843000 / [mas/yr] RA proper motion                      \n",
       "PMDEC   =         -11.58940000 / [mas/yr] Dec proper motion                     \n",
       "PMTOTAL =          15.12488261 / [mas/yr] total proper motion                   \n",
       "TESSMAG =           9.75599957 / [mag] TESS magnitude                           \n",
       "TEFF    =        6679.00000000 / [K] Effective temperature                      \n",
       "LOGG    =           3.65212989 / [cm/s2] log10 surface gravity                  \n",
       "MH      =                      / [log10([M/H])] metallicity                     \n",
       "RADIUS  =           2.93480992 / [solar radii] stellar radius                   \n",
       "TICVER  =                    8 / TICVER                                         \n",
       "CRMITEN =                    T / spacecraft cosmic ray mitigation enabled       \n",
       "CRBLKSZ =                   10 / [exposures] s/c cosmic ray mitigation block siz\n",
       "CRSPOC  =                    F / SPOC cosmic ray cleaning enabled               \n",
       "CHECKSUM= 'kjKYmhKWkhKWkhKW'   / HDU checksum updated 2020-04-16T00:05:45Z      "
      ]
     },
     "execution_count": 9,
     "metadata": {},
     "output_type": "execute_result"
    }
   ],
   "source": [
    "lc[0].header"
   ]
  },
  {
   "cell_type": "code",
   "execution_count": 10,
   "metadata": {},
   "outputs": [
    {
     "data": {
      "text/plain": [
       "XTENSION= 'BINTABLE'           / marks the beginning of a new HDU               \n",
       "BITPIX  =                    8 / array data type                                \n",
       "NAXIS   =                    2 / number of array dimensions                     \n",
       "NAXIS1  =                  100 / length of first array dimension                \n",
       "NAXIS2  =                17554 / length of second array dimension               \n",
       "PCOUNT  =                    0 / group parameter count (not used)               \n",
       "GCOUNT  =                    1 / group count (not used)                         \n",
       "TFIELDS =                   20 / number of table fields                         \n",
       "TTYPE1  = 'TIME    '           / column title: data time stamps                 \n",
       "TFORM1  = 'D       '           / column format: 64-bit floating point           \n",
       "TUNIT1  = 'BJD - 2457000, days' / column units: Barycenter corrected TESS Julian\n",
       "TDISP1  = 'D14.7   '           / column display format                          \n",
       "TTYPE2  = 'TIMECORR'           / column title: barycentric correction           \n",
       "TFORM2  = 'E       '           / column format: 32-bit floating point           \n",
       "TUNIT2  = 'd       '           / column units: Days                             \n",
       "TDISP2  = 'E14.7   '           / column display format                          \n",
       "TTYPE3  = 'CADENCENO'          / column title: unique cadence number            \n",
       "TFORM3  = 'J       '           / column format: signed 32-bit integer           \n",
       "TDISP3  = 'I10     '           / column display format                          \n",
       "TTYPE4  = 'SAP_FLUX'           / column title: aperture photometry flux         \n",
       "TFORM4  = 'E       '           / column format: 32-bit floating point           \n",
       "TUNIT4  = 'e-/s    '           / column units: electrons per second             \n",
       "TDISP4  = 'E14.7   '           / column display format                          \n",
       "TTYPE5  = 'SAP_FLUX_ERR'       / column title: aperture phot. flux error        \n",
       "TFORM5  = 'E       '           / column format: 32-bit floating point           \n",
       "TUNIT5  = 'e-/s    '           / column units: electrons per second (1-sigma)   \n",
       "TDISP5  = 'E14.7   '           / column display format                          \n",
       "TTYPE6  = 'SAP_BKG '           / column title: aperture phot. background flux   \n",
       "TFORM6  = 'E       '           / column format: 32-bit floating point           \n",
       "TUNIT6  = 'e-/s    '           / column units: electrons per second             \n",
       "TDISP6  = 'E14.7   '           / column display format                          \n",
       "TTYPE7  = 'SAP_BKG_ERR'        / column title: ap. phot. background flux error  \n",
       "TFORM7  = 'E       '           / column format: 32-bit floating point           \n",
       "TUNIT7  = 'e-/s    '           / column units: electrons per second (1-sigma)   \n",
       "TDISP7  = 'E14.7   '           / column display format                          \n",
       "TTYPE8  = 'PDCSAP_FLUX'        / column title: aperture phot. PDC flux          \n",
       "TFORM8  = 'E       '           / column format: 32-bit floating point           \n",
       "TUNIT8  = 'e-/s    '           / column units: electrons per second             \n",
       "TDISP8  = 'E14.7   '           / column display format                          \n",
       "TTYPE9  = 'PDCSAP_FLUX_ERR'    / column title: ap. phot. PDC flux error         \n",
       "TFORM9  = 'E       '           / column format: 32-bit floating point           \n",
       "TUNIT9  = 'e-/s    '           / column units: electrons per second (1-sigma)   \n",
       "TDISP9  = 'E14.7   '           / column display format                          \n",
       "TTYPE10 = 'QUALITY '           / column title: aperture photometry quality flag \n",
       "TFORM10 = 'J       '           / column format: signed 32-bit integer           \n",
       "TDISP10 = 'B16.16  '           / column display format                          \n",
       "TTYPE11 = 'PSF_CENTR1'         / column title: PSF-fitted column centroid       \n",
       "TFORM11 = 'D       '           / column format: 64-bit floating point           \n",
       "TUNIT11 = 'pixel   '           / column units: pixel                            \n",
       "TDISP11 = 'F10.5   '           / column display format                          \n",
       "TTYPE12 = 'PSF_CENTR1_ERR'     / column title: PSF-fitted column error          \n",
       "TFORM12 = 'E       '           / column format: 32-bit floating point           \n",
       "TUNIT12 = 'pixel   '           / column units: pixel (1-sigma)                  \n",
       "TDISP12 = 'E14.7   '           / column display format                          \n",
       "TTYPE13 = 'PSF_CENTR2'         / column title: PSF-fitted row centroid          \n",
       "TFORM13 = 'D       '           / column format: 64-bit floating point           \n",
       "TUNIT13 = 'pixel   '           / column units: pixel                            \n",
       "TDISP13 = 'F10.5   '           / column display format                          \n",
       "TTYPE14 = 'PSF_CENTR2_ERR'     / column title: PSF-fitted row error             \n",
       "TFORM14 = 'E       '           / column format: 32-bit floating point           \n",
       "TUNIT14 = 'pixel   '           / column units: pixel (1-sigma)                  \n",
       "TDISP14 = 'E14.7   '           / column display format                          \n",
       "TTYPE15 = 'MOM_CENTR1'         / column title: moment-derived column centroid   \n",
       "TFORM15 = 'D       '           / column format: 64-bit floating point           \n",
       "TUNIT15 = 'pixel   '           / column units: pixel                            \n",
       "TDISP15 = 'F10.5   '           / column display format                          \n",
       "TTYPE16 = 'MOM_CENTR1_ERR'     / column title: moment-derived column error      \n",
       "TFORM16 = 'E       '           / column format: 32-bit floating point           \n",
       "TUNIT16 = 'pixel   '           / column units: pixel (1-sigma)                  \n",
       "TDISP16 = 'E14.7   '           / column display format                          \n",
       "TTYPE17 = 'MOM_CENTR2'         / column title: moment-derived row centroid      \n",
       "TFORM17 = 'D       '           / column format: 64-bit floating point           \n",
       "TUNIT17 = 'pixel   '           / column units: pixel                            \n",
       "TDISP17 = 'F10.5   '           / column display format                          \n",
       "TTYPE18 = 'MOM_CENTR2_ERR'     / column title: moment-derived row error         \n",
       "TFORM18 = 'E       '           / column format: 32-bit floating point           \n",
       "TUNIT18 = 'pixel   '           / column units: pixel (1-sigma)                  \n",
       "TDISP18 = 'E14.7   '           / column display format                          \n",
       "TTYPE19 = 'POS_CORR1'          / column title: column position correction       \n",
       "TFORM19 = 'E       '           / column format: 32-bit floating point           \n",
       "TUNIT19 = 'pixels  '           / column units: pixel                            \n",
       "TDISP19 = 'E14.7   '           / column display format                          \n",
       "TTYPE20 = 'POS_CORR2'          / column title: row position correction          \n",
       "TFORM20 = 'E       '           / column format: 32-bit floating point           \n",
       "TUNIT20 = 'pixels  '           / column units: pixel                            \n",
       "TDISP20 = 'E14.7   '           / column display format                          \n",
       "INHERIT =                    T / inherit the primary header                     \n",
       "EXTNAME = 'LIGHTCURVE'         / name of extension                              \n",
       "EXTVER  =                    1 / extension version number (not format version)  \n",
       "SIMDATA =                    F / file is based on simulated data                \n",
       "TELESCOP= 'TESS    '           / telescope                                      \n",
       "INSTRUME= 'TESS Photometer'    / detector type                                  \n",
       "OBJECT  = 'TIC 67467015'       / string version of target id                    \n",
       "TICID   =             67467015 / unique tess target identifier                  \n",
       "RADESYS = 'ICRS    '           / reference frame of celestial coordinates       \n",
       "RA_OBJ  =  29.3213153338604720 / [deg] right ascension                          \n",
       "DEC_OBJ =  37.4358249418055000 / [deg] declination                              \n",
       "EQUINOX =               2000.0 / equinox of celestial coordinate system         \n",
       "EXPOSURE=      19.291409896631 / [d] time on source                             \n",
       "TIMEREF = 'SOLARSYSTEM'        / barycentric correction applied to times        \n",
       "TASSIGN = 'SPACECRAFT'         / where time is assigned                         \n",
       "TIMESYS = 'TDB     '           / time system is Barycentric Dynamical Time (TDB)\n",
       "BJDREFI =              2457000 / integer part of BTJD reference date            \n",
       "BJDREFF =           0.00000000 / fraction of the day in BTJD reference date     \n",
       "TIMEUNIT= 'd       '           / time unit for TIME, TSTART and TSTOP           \n",
       "TELAPSE =      24.357840778575 / [d] TSTOP - TSTART                             \n",
       "LIVETIME=  19.2914098966314900 / [d] TELAPSE multiplied by DEADC                \n",
       "TSTART  =    1790.661200336749 / observation start time in BTJD                 \n",
       "TSTOP   =    1815.019040883843 / observation stop time in BTJD                  \n",
       "DATE-OBS= '2019-11-03T03:50:58.525' / TSTART as UTC calendar date               \n",
       "DATE-END= '2019-11-27T12:26:15.948' / TSTOP as UTC calendar date                \n",
       "DEADC   =   0.7920000000000000 / deadtime correction                            \n",
       "TIMEPIXR=                  0.5 / bin time beginning=0 middle=0.5 end=1          \n",
       "TIERRELA=             1.16E-05 / [d] relative time error                        \n",
       "INT_TIME=       1.980000000000 / [s] photon accumulation time per frame         \n",
       "READTIME=       0.020000000000 / [s] readout time per frame                     \n",
       "FRAMETIM=       2.000000000000 / [s] frame time (INT_TIME + READTIME)           \n",
       "NUM_FRM =                   60 / number of frames per time stamp                \n",
       "TIMEDEL = 0.001388888888888889 / [d] time resolution of data                    \n",
       "BACKAPP =                    T / background is subtracted                       \n",
       "DEADAPP =                    T / deadtime applied                               \n",
       "VIGNAPP =                    T / vignetting or collimator correction applied    \n",
       "GAINA   =    5.269999980926514 / [electrons/count] CCD output A gain            \n",
       "GAINB   =    5.139999866485596 / [electrons/count] CCD output B gain            \n",
       "GAINC   =    5.110000133514404 / [electrons/count] CCD output C gain            \n",
       "GAIND   =    5.190000057220459 / [electrons/count] CCD output D gain            \n",
       "READNOIA=   10.223800659179688 / [electrons] read noise CCD output A            \n",
       "READNOIB=    7.401599884033203 / [electrons] read noise CCD output B            \n",
       "READNOIC=    7.358400344848633 / [electrons] read noise CCD output C            \n",
       "READNOID=    9.549600601196289 / [electrons] read noise CCD output D            \n",
       "NREADOUT=                   48 / number of read per cadence                     \n",
       "FXDOFF  =               209700 / compression fixed offset                       \n",
       "CDPP0_5 =         295.08410645 / RMS CDPP on 0.5-hr time scales                 \n",
       "CDPP1_0 =         233.47209167 / RMS CDPP on 1.0-hr time scales                 \n",
       "CDPP2_0 =         196.05598450 / RMS CDPP on 2.0-hr time scales                 \n",
       "CROWDSAP=           0.99068862 / Ratio of target flux to total flux in op. ap.  \n",
       "FLFRCSAP=           0.92554682 / Frac. of target flux w/in the op. aperture     \n",
       "NSPSDDET=                    0 / Number of SPSDs detected                       \n",
       "NSPSDCOR=                    0 / Number of SPSDs corrected                      \n",
       "PDCVAR  =   0.8678479695139846 / Target variability                             \n",
       "PDCMETHD= 'msMAP   '           / PDC algorithm used for target                  \n",
       "NUMBAND =                    3 / Number of scale bands                          \n",
       "FITTYPE1= 'reducedRobust'      / Fit type used for band 1                       \n",
       "PR_GOOD1=   0.9974052906036377 / Prior goodness for band 1                      \n",
       "PR_WGHT1=                  0.0 / Prior weight for band 1                        \n",
       "FITTYPE2= 'prior   '           / Fit type used for band 2                       \n",
       "PR_GOOD2=   0.8090320229530334 / Prior goodness for band 2                      \n",
       "PR_WGHT2=    56.45192337036133 / Prior weight for band 2                        \n",
       "FITTYPE3= 'prior   '           / Fit type used for band 3                       \n",
       "PR_GOOD3=  0.42809706926345825 / Prior goodness for band 3                      \n",
       "PR_WGHT3=   29.871381759643555 / Prior weight for band 3                        \n",
       "PDC_TOT =   0.9862633347511292 / PDC total goodness metric for target           \n",
       "PDC_TOTP=    63.07258224487305 / PDC_TOT percentile compared to mod/out         \n",
       "PDC_COR =   0.9988422393798828 / PDC correlation goodness metric for target     \n",
       "PDC_CORP=     80.9916000366211 / PDC_COR percentile compared to mod/out         \n",
       "PDC_VAR =                      / PDC variability goodness metric for target     \n",
       "PDC_VARP=                      / PDC_VAR percentile compared to mod/out         \n",
       "PDC_NOI =   0.9961028099060059 / PDC noise goodness metric for target           \n",
       "PDC_NOIP=   62.260189056396484 / PDC_NOI percentile compared to mod/out         \n",
       "PDC_EPT =                      / PDC earth point goodness metric for target     \n",
       "PDC_EPTP=                      / PDC_EPT percentile compared to mod/out         \n",
       "CHECKSUM= 'lRAdlR9clRAclR9c'   / HDU checksum updated 2020-04-16T00:05:45Z      \n",
       "TMOFST12= 0.019999999552965164 / (s) readout delay for camera 1 and ccd 2       \n",
       "MEANBLCA=                 6659 / [count] FSW mean black level CCD output A      \n",
       "MEANBLCB=                 6986 / [count] FSW mean black level CCD output B      \n",
       "MEANBLCC=                 6796 / [count] FSW mean black level CCD output C      \n",
       "MEANBLCD=                 6666 / [count] FSW mean black level CCD output D      "
      ]
     },
     "execution_count": 10,
     "metadata": {},
     "output_type": "execute_result"
    }
   ],
   "source": [
    "lc[1].header"
   ]
  },
  {
   "cell_type": "markdown",
   "metadata": {},
   "source": [
    "The actual light curve is in `lc[1]` and can be accessed like that:"
   ]
  },
  {
   "cell_type": "code",
   "execution_count": 11,
   "metadata": {},
   "outputs": [
    {
     "data": {
      "text/plain": [
       "FITS_rec([(1790.65633909, 0.00526161, 405501, nan, nan, nan, nan, nan, nan, 168, nan, nan, nan, nan, nan, nan, nan, nan, nan, nan),\n",
       "          (1790.65772799, 0.00526161, 405502, nan, nan, nan, nan, nan, nan,  32, nan, nan, nan, nan, nan, nan, nan, nan, nan, nan),\n",
       "          (1790.65911688, 0.00526162, 405503, nan, nan, nan, nan, nan, nan,  32, nan, nan, nan, nan, nan, nan, nan, nan, nan, nan),\n",
       "          ...,\n",
       "          (1815.03223498, 0.00477888, 423052, nan, nan, nan, nan, nan, nan,  16, nan, nan, nan, nan, nan, nan, nan, nan, nan, nan),\n",
       "          (1815.03362382, 0.00477884, 423053, nan, nan, nan, nan, nan, nan,  16, nan, nan, nan, nan, nan, nan, nan, nan, nan, nan),\n",
       "          (1815.03501266, 0.00477879, 423054, nan, nan, nan, nan, nan, nan,  16, nan, nan, nan, nan, nan, nan, nan, nan, nan, nan)],\n",
       "         dtype=(numpy.record, [('TIME', '>f8'), ('TIMECORR', '>f4'), ('CADENCENO', '>i4'), ('SAP_FLUX', '>f4'), ('SAP_FLUX_ERR', '>f4'), ('SAP_BKG', '>f4'), ('SAP_BKG_ERR', '>f4'), ('PDCSAP_FLUX', '>f4'), ('PDCSAP_FLUX_ERR', '>f4'), ('QUALITY', '>i4'), ('PSF_CENTR1', '>f8'), ('PSF_CENTR1_ERR', '>f4'), ('PSF_CENTR2', '>f8'), ('PSF_CENTR2_ERR', '>f4'), ('MOM_CENTR1', '>f8'), ('MOM_CENTR1_ERR', '>f4'), ('MOM_CENTR2', '>f8'), ('MOM_CENTR2_ERR', '>f4'), ('POS_CORR1', '>f4'), ('POS_CORR2', '>f4')]))"
      ]
     },
     "execution_count": 11,
     "metadata": {},
     "output_type": "execute_result"
    }
   ],
   "source": [
    "lc[1].data"
   ]
  },
  {
   "cell_type": "markdown",
   "metadata": {},
   "source": [
    "The most important columns for us will be the `TIME`, `SAP_FLUX` (simple aperture photometry) and `QUALITY`. The `PDCSAP` (Pre-search Data Conditioning Simple Aperture Photometry) data is passed through some processing (usually focused for finding exoplanet signals), which usually improves the light curves, but sometimes is known to remove physical signals, too. The `QUALITY` flag indicates different issues with the points, here we'll use only those where no such issues are present."
   ]
  },
  {
   "cell_type": "code",
   "execution_count": 12,
   "metadata": {},
   "outputs": [
    {
     "data": {
      "text/plain": [
       "[<matplotlib.lines.Line2D at 0x115cfb730>]"
      ]
     },
     "execution_count": 12,
     "metadata": {},
     "output_type": "execute_result"
    },
    {
     "data": {
      "image/png": "[encoded data removed]",
      "text/plain": [
       "<Figure size 432x288 with 1 Axes>"
      ]
     },
     "metadata": {
      "needs_background": "light"
     },
     "output_type": "display_data"
    }
   ],
   "source": [
    "from matplotlib import pyplot as plt\n",
    "mask = lc[1].data['QUALITY']==0\n",
    "/plt.plot lc[1].data['TIME'][mask] lc[1].data['SAP_FLUX'][mask] \"-o\" ms=1\n",
    "#plt.xlim(1792,1800)"
   ]
  },
  {
   "cell_type": "markdown",
   "metadata": {},
   "source": [
    "Unfortunately this target doesn't seem to show anything interesting. What could be the reasons?\n",
    "\n",
    "Check the other light curves and the other clusters, too - you can try smoothing the light curves to reveal weaker events, but keep in mind that flares have a time scale of minutes-hours, so smoothing can smear your signal!\n",
    "\n",
    "If there are only a handful of events you find, they can be identified and analyzed manually, if there are many cases, the [FLATW'RM](https://github.com/vidakris/flatwrm) code can be helpful, just be sure to check the parameters, especially the detection (sigma) limit and the minimum number of flare points. If the rotation signal is undetectable, it's a good idea to input something on the timescale of a few days manually that's longer than the time scale of the flares.\n",
    "\n",
    "In the case if all the open cluster members seem to be boring, you can try to select either other clusters, or compare nearby field stars with different temperatures (F-G-K-M types) - but in this case, we won't have much information on their age."
   ]
  },
  {
   "cell_type": "code",
   "execution_count": null,
   "metadata": {},
   "outputs": [],
   "source": []
  }
 ],
 "metadata": {
  "kernelspec": {
   "display_name": "Python 3",
   "language": "python",
   "name": "python3"
  },
  "language_info": {
   "codemirror_mode": {
    "name": "ipython",
    "version": 3
   },
   "file_extension": ".py",
   "mimetype": "text/x-python",
   "name": "python",
   "nbconvert_exporter": "python",
   "pygments_lexer": "ipython3",
   "version": "3.8.2"
  }
 },
 "nbformat": 4,
 "nbformat_minor": 4
}
